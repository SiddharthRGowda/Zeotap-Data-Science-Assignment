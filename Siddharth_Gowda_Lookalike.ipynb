{
 "cells": [
  {
   "cell_type": "code",
   "execution_count": 1,
   "id": "77c895c3-47db-43ce-8d7b-e0fcb1e34dbe",
   "metadata": {},
   "outputs": [],
   "source": [
    "# Lookalike Model for eCommerce Transactions Dataset\n",
    "\n",
    "import pandas as pd\n",
    "from sklearn.metrics.pairwise import cosine_similarity\n",
    "from sklearn.preprocessing import StandardScaler\n"
   ]
  },
  {
   "cell_type": "code",
   "execution_count": 3,
   "id": "7951b39b-4c6e-4c24-bcc6-4b7d525e1a0d",
   "metadata": {},
   "outputs": [],
   "source": [
    "# Load datasets\n",
    "customers_df = pd.read_csv('Customers.csv')\n",
    "products_df = pd.read_csv('Products.csv')\n",
    "transactions_df = pd.read_csv('Transactions.csv')"
   ]
  },
  {
   "cell_type": "code",
   "execution_count": 5,
   "id": "d7caad59-58cf-4217-b7e6-f7dcb3bb05f6",
   "metadata": {},
   "outputs": [],
   "source": [
    "# Merge datasets to include both profile and transaction information\n",
    "merged_df = transactions_df.merge(customers_df, on='CustomerID').merge(products_df, on='ProductID')"
   ]
  },
  {
   "cell_type": "code",
   "execution_count": 7,
   "id": "2a75980e-5ccb-4c13-9ba7-36ad90e61928",
   "metadata": {},
   "outputs": [],
   "source": [
    "# Aggregate data to create a customer-product matrix\n",
    "customer_product_matrix = merged_df.pivot_table(\n",
    "    index='CustomerID',\n",
    "    columns='ProductID',\n",
    "    values='Quantity',\n",
    "    aggfunc='sum',\n",
    "    fill_value=0\n",
    ")"
   ]
  },
  {
   "cell_type": "code",
   "execution_count": 9,
   "id": "2a6154e0-dc25-43fb-96ec-fc0fea2c8c54",
   "metadata": {},
   "outputs": [],
   "source": [
    "# Normalize data using customer profile information\n",
    "# Adding one-hot encoding for 'Region' and normalizing transaction data\n",
    "customer_profiles = pd.get_dummies(customers_df.set_index('CustomerID')['Region'], prefix='Region')\n",
    "customer_product_matrix = customer_product_matrix.join(customer_profiles, how='left').fillna(0)"
   ]
  },
  {
   "cell_type": "code",
   "execution_count": 11,
   "id": "f7be16e8-728d-4db5-a0a1-a0779003dd9e",
   "metadata": {},
   "outputs": [],
   "source": [
    "# Standardize data\n",
    "scaler = StandardScaler()\n",
    "normalized_matrix = scaler.fit_transform(customer_product_matrix)"
   ]
  },
  {
   "cell_type": "code",
   "execution_count": 13,
   "id": "7da468c0-037e-4f1d-a101-3af61f7fd41a",
   "metadata": {},
   "outputs": [],
   "source": [
    "# Compute cosine similarity between customers\n",
    "similarity_matrix = cosine_similarity(normalized_matrix)"
   ]
  },
  {
   "cell_type": "code",
   "execution_count": 15,
   "id": "cb43fc49-d2e2-4ba9-ac47-b4c4d40dbc55",
   "metadata": {},
   "outputs": [],
   "source": [
    "# Generate lookalike recommendations for the first 20 customers\n",
    "customer_ids = customer_product_matrix.index.tolist()\n",
    "lookalikes = {}\n",
    "\n",
    "for i, customer in enumerate(customer_ids[:20]):\n",
    "    # Get similarity scores for the customer\n",
    "    similarity_scores = list(enumerate(similarity_matrix[i]))\n",
    "    similarity_scores = sorted(similarity_scores, key=lambda x: x[1], reverse=True)\n",
    "    \n",
    "    # Exclude the customer itself and select the top 3 similar customers\n",
    "    top_3_similar = [(customer_ids[j], round(score, 4)) for j, score in similarity_scores[1:4]]\n",
    "    lookalikes[customer] = top_3_similar\n",
    "\n"
   ]
  },
  {
   "cell_type": "code",
   "execution_count": 17,
   "id": "b0bddc42-87c9-4a79-b77c-b52d655b1f48",
   "metadata": {},
   "outputs": [],
   "source": [
    "# Save lookalike recommendations to a CSV file\n",
    "lookalike_df = pd.DataFrame([{\"CustomerID\": key, \"Lookalikes\": value} for key, value in lookalikes.items()])\n",
    "lookalike_df.to_csv('Lookalike_Model_Output.csv', index=False)"
   ]
  },
  {
   "cell_type": "code",
   "execution_count": 19,
   "id": "bc02eb20-b096-430c-b839-c654e41416e9",
   "metadata": {},
   "outputs": [
    {
     "name": "stdout",
     "output_type": "stream",
     "text": [
      "Lookalike recommendations saved to Lookalike_Model_Output.csv\n"
     ]
    }
   ],
   "source": [
    "# Display output\n",
    "print(\"Lookalike recommendations saved to Lookalike_Model_Output.csv\")"
   ]
  },
  {
   "cell_type": "code",
   "execution_count": null,
   "id": "699f2a3f-4c6a-46cb-ae09-c2a042b63be7",
   "metadata": {},
   "outputs": [],
   "source": []
  }
 ],
 "metadata": {
  "kernelspec": {
   "display_name": "Python [conda env:base] *",
   "language": "python",
   "name": "conda-base-py"
  },
  "language_info": {
   "codemirror_mode": {
    "name": "ipython",
    "version": 3
   },
   "file_extension": ".py",
   "mimetype": "text/x-python",
   "name": "python",
   "nbconvert_exporter": "python",
   "pygments_lexer": "ipython3",
   "version": "3.12.7"
  }
 },
 "nbformat": 4,
 "nbformat_minor": 5
}
